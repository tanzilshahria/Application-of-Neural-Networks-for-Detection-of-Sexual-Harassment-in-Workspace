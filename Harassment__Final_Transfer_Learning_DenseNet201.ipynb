{
 "cells": [
  {
   "cell_type": "markdown",
   "metadata": {
    "id": "Hd2ap-dPqNOF"
   },
   "source": [
    "Transfer Learning DenseNet201"
   ]
  },
  {
   "cell_type": "code",
   "execution_count": null,
   "metadata": {
    "colab": {
     "base_uri": "https://localhost:8080/"
    },
    "id": "jOZg5477t3-u",
    "outputId": "505b1b82-a363-4efc-f735-4b5506eec500"
   },
   "outputs": [
    {
     "name": "stdout",
     "output_type": "stream",
     "text": [
      "TensorFlow version: 2.3.0\n",
      "WARNING:tensorflow:From <ipython-input-1-baeee846c934>:12: is_gpu_available (from tensorflow.python.framework.test_util) is deprecated and will be removed in a future version.\n",
      "Instructions for updating:\n",
      "Use `tf.config.list_physical_devices('GPU')` instead.\n",
      "Is using GPU? True\n"
     ]
    }
   ],
   "source": [
    "import tensorflow as tf\n",
    "import os\n",
    "import numpy as np\n",
    "\n",
    "from matplotlib import pyplot as plt\n",
    "%matplotlib inline\n",
    "\n",
    "if not os.path.isdir('models'):\n",
    "    os.mkdir('models')\n",
    "    \n",
    "print('TensorFlow version:', tf.__version__)\n",
    "print('Is using GPU?', tf.test.is_gpu_available())"
   ]
  },
  {
   "cell_type": "code",
   "execution_count": null,
   "metadata": {
    "id": "-H52nMTnt30F"
   },
   "outputs": [],
   "source": [
    "import cv2\n",
    "import keras\n",
    "from keras.models import Sequential\n",
    "from keras.applications.densenet import DenseNet201\n",
    "from keras.layers import Dense, InputLayer, Dropout, Flatten\n",
    "from keras.layers import Conv2D, MaxPooling2D, GlobalMaxPooling2D\n",
    "from keras.preprocessing import image\n",
    "import numpy as np\n",
    "import pandas as pd\n",
    "import matplotlib.pyplot as plt\n",
    "from tqdm import tqdm\n",
    "from sklearn.model_selection import train_test_split"
   ]
  },
  {
   "cell_type": "code",
   "execution_count": null,
   "metadata": {
    "colab": {
     "base_uri": "https://localhost:8080/",
     "height": 206
    },
    "id": "ifFo0W-lucGY",
    "outputId": "29662efe-de52-4487-f50c-4e3fe1f49557"
   },
   "outputs": [
    {
     "data": {
      "text/html": [
       "<div>\n",
       "<style scoped>\n",
       "    .dataframe tbody tr th:only-of-type {\n",
       "        vertical-align: middle;\n",
       "    }\n",
       "\n",
       "    .dataframe tbody tr th {\n",
       "        vertical-align: top;\n",
       "    }\n",
       "\n",
       "    .dataframe thead th {\n",
       "        text-align: right;\n",
       "    }\n",
       "</style>\n",
       "<table border=\"1\" class=\"dataframe\">\n",
       "  <thead>\n",
       "    <tr style=\"text-align: right;\">\n",
       "      <th></th>\n",
       "      <th>image</th>\n",
       "      <th>class</th>\n",
       "    </tr>\n",
       "  </thead>\n",
       "  <tbody>\n",
       "    <tr>\n",
       "      <th>0</th>\n",
       "      <td>Harassment_h36.mp4_frame34.jpg</td>\n",
       "      <td>1</td>\n",
       "    </tr>\n",
       "    <tr>\n",
       "      <th>1</th>\n",
       "      <td>Normal_n27.mp4_frame20.jpg</td>\n",
       "      <td>0</td>\n",
       "    </tr>\n",
       "    <tr>\n",
       "      <th>2</th>\n",
       "      <td>Normal_n46.mp4_frame43.jpg</td>\n",
       "      <td>0</td>\n",
       "    </tr>\n",
       "    <tr>\n",
       "      <th>3</th>\n",
       "      <td>Harassment_h3.mp4_frame6.jpg</td>\n",
       "      <td>1</td>\n",
       "    </tr>\n",
       "    <tr>\n",
       "      <th>4</th>\n",
       "      <td>Harassment_h15.mp4_frame10.jpg</td>\n",
       "      <td>1</td>\n",
       "    </tr>\n",
       "  </tbody>\n",
       "</table>\n",
       "</div>"
      ],
      "text/plain": [
       "                            image  class\n",
       "0  Harassment_h36.mp4_frame34.jpg      1\n",
       "1      Normal_n27.mp4_frame20.jpg      0\n",
       "2      Normal_n46.mp4_frame43.jpg      0\n",
       "3    Harassment_h3.mp4_frame6.jpg      1\n",
       "4  Harassment_h15.mp4_frame10.jpg      1"
      ]
     },
     "execution_count": 6,
     "metadata": {
      "tags": []
     },
     "output_type": "execute_result"
    }
   ],
   "source": [
    "train = pd.read_csv('Data/train_new.csv')\n",
    "train.head()"
   ]
  },
  {
   "cell_type": "code",
   "execution_count": null,
   "metadata": {
    "colab": {
     "base_uri": "https://localhost:8080/"
    },
    "id": "BC3u4aVPucLE",
    "outputId": "452344ed-a09e-46dd-9b86-5f1dad9cc87e"
   },
   "outputs": [
    {
     "name": "stderr",
     "output_type": "stream",
     "text": [
      "100%|██████████| 4227/4227 [01:51<00:00, 37.82it/s]\n"
     ]
    },
    {
     "data": {
      "text/plain": [
       "(4227, 224, 224, 3)"
      ]
     },
     "execution_count": 7,
     "metadata": {
      "tags": []
     },
     "output_type": "execute_result"
    }
   ],
   "source": [
    "# creating an empty list\n",
    "train_image = []\n",
    "\n",
    "# for loop to read and store frames\n",
    "for i in tqdm(range(train.shape[0])):\n",
    "    # loading the image and keeping the target size as (224,224,3)\n",
    "    img = image.load_img('train/'+train['image'][i], target_size=(224,224,3))\n",
    "    # converting it to array\n",
    "    img = image.img_to_array(img)\n",
    "    # normalizing the pixel value\n",
    "    img = img/255.0\n",
    "    # appending the image to the train_image list\n",
    "    train_image.append(img)\n",
    "    \n",
    "# converting the list to numpy array\n",
    "X = np.array(train_image)\n",
    "\n",
    "# shape of the array\n",
    "X.shape"
   ]
  },
  {
   "cell_type": "code",
   "execution_count": null,
   "metadata": {
    "id": "CKJisKKVucOZ"
   },
   "outputs": [],
   "source": [
    "# separating the target\n",
    "y = train['class']\n",
    "\n",
    "# creating the training and validation set\n",
    "X_train, X_test, y_train, y_test = train_test_split(X, y, random_state=42, test_size=0.2, stratify = y)"
   ]
  },
  {
   "cell_type": "code",
   "execution_count": null,
   "metadata": {
    "id": "RwqlNVB7ucKE"
   },
   "outputs": [],
   "source": [
    "# creating dummies of target variable for train and validation set\n",
    "y_train = pd.get_dummies(y_train)\n",
    "y_test = pd.get_dummies(y_test)"
   ]
  },
  {
   "cell_type": "code",
   "execution_count": null,
   "metadata": {
    "colab": {
     "base_uri": "https://localhost:8080/"
    },
    "id": "O-ZZvaKmucFK",
    "outputId": "c12af47e-f91b-47c1-e099-b006a9fc6933"
   },
   "outputs": [
    {
     "name": "stdout",
     "output_type": "stream",
     "text": [
      "Downloading data from https://storage.googleapis.com/tensorflow/keras-applications/densenet/densenet201_weights_tf_dim_ordering_tf_kernels_notop.h5\n",
      "74842112/74836368 [==============================] - 1s 0us/step\n"
     ]
    }
   ],
   "source": [
    "# creating the base model of pre-trained VGG16 model\n",
    "base_model = DenseNet201(weights='imagenet', include_top=False)"
   ]
  },
  {
   "cell_type": "code",
   "execution_count": null,
   "metadata": {
    "colab": {
     "base_uri": "https://localhost:8080/"
    },
    "id": "tYj-VnF7yix9",
    "outputId": "982fc7e9-533f-4814-9e2e-d67dbd91f280"
   },
   "outputs": [
    {
     "data": {
      "text/plain": [
       "(3381, 7, 7, 1920)"
      ]
     },
     "execution_count": 11,
     "metadata": {
      "tags": []
     },
     "output_type": "execute_result"
    }
   ],
   "source": [
    "# extracting features for training frames\n",
    "X_train = base_model.predict(X_train)\n",
    "X_train.shape"
   ]
  },
  {
   "cell_type": "code",
   "execution_count": null,
   "metadata": {
    "colab": {
     "base_uri": "https://localhost:8080/"
    },
    "id": "0yBdyqbnyriV",
    "outputId": "81573cf8-18c4-48fc-b7fa-04d7c49af952"
   },
   "outputs": [
    {
     "data": {
      "text/plain": [
       "(846, 7, 7, 1920)"
      ]
     },
     "execution_count": 12,
     "metadata": {
      "tags": []
     },
     "output_type": "execute_result"
    }
   ],
   "source": [
    "# extracting features for validation frames\n",
    "X_test = base_model.predict(X_test)\n",
    "X_test.shape"
   ]
  },
  {
   "cell_type": "code",
   "execution_count": null,
   "metadata": {
    "id": "kzTJP6Tyy8ml"
   },
   "outputs": [],
   "source": [
    "# reshaping the training as well as validation frames in single dimension\n",
    "X_train = X_train.reshape(3381, 7*7*1920)\n",
    "X_test = X_test.reshape(846, 7*7*1920)"
   ]
  },
  {
   "cell_type": "code",
   "execution_count": null,
   "metadata": {
    "id": "c-1UTZeCzN5m"
   },
   "outputs": [],
   "source": [
    "# normalizing the pixel values\n",
    "max = X_train.max()\n",
    "X_train = X_train/max\n",
    "X_test = X_test/max"
   ]
  },
  {
   "cell_type": "code",
   "execution_count": null,
   "metadata": {
    "colab": {
     "base_uri": "https://localhost:8080/"
    },
    "id": "elIuIR_2zTAO",
    "outputId": "edc739a2-22d4-403d-c924-865bd32acfa5"
   },
   "outputs": [
    {
     "data": {
      "text/plain": [
       "(3381, 94080)"
      ]
     },
     "execution_count": 15,
     "metadata": {
      "tags": []
     },
     "output_type": "execute_result"
    }
   ],
   "source": [
    "X_train.shape"
   ]
  },
  {
   "cell_type": "code",
   "execution_count": null,
   "metadata": {
    "id": "19LK5UmLzVeX"
   },
   "outputs": [],
   "source": [
    "#defining the model architecture\n",
    "model = Sequential()\n",
    "model.add(Dense(1024, activation='relu', input_shape=(94080,)))\n",
    "model.add(Dropout(0.5))\n",
    "model.add(Dense(512, activation='relu'))\n",
    "model.add(Dropout(0.5))\n",
    "model.add(Dense(256, activation='relu'))\n",
    "model.add(Dropout(0.5))\n",
    "model.add(Dense(128, activation='relu'))\n",
    "model.add(Dropout(0.5))\n",
    "model.add(Dense(64, activation='relu'))\n",
    "model.add(Dropout(0.5))\n",
    "model.add(Dense(2, activation='softmax'))"
   ]
  },
  {
   "cell_type": "code",
   "execution_count": null,
   "metadata": {
    "id": "QAlyRR5Qza1E"
   },
   "outputs": [],
   "source": [
    "from keras.callbacks import ModelCheckpoint\n",
    "mcp_save = ModelCheckpoint('weight.hdf5', save_best_only=True, monitor='val_loss', mode='min')"
   ]
  },
  {
   "cell_type": "code",
   "execution_count": null,
   "metadata": {
    "colab": {
     "base_uri": "https://localhost:8080/"
    },
    "id": "6UbrRtrpziQy",
    "outputId": "171c28eb-9418-488c-9258-f200de42ef00"
   },
   "outputs": [
    {
     "name": "stdout",
     "output_type": "stream",
     "text": [
      "Model: \"sequential\"\n",
      "_________________________________________________________________\n",
      "Layer (type)                 Output Shape              Param #   \n",
      "=================================================================\n",
      "dense (Dense)                (None, 1024)              96338944  \n",
      "_________________________________________________________________\n",
      "dropout (Dropout)            (None, 1024)              0         \n",
      "_________________________________________________________________\n",
      "dense_1 (Dense)              (None, 512)               524800    \n",
      "_________________________________________________________________\n",
      "dropout_1 (Dropout)          (None, 512)               0         \n",
      "_________________________________________________________________\n",
      "dense_2 (Dense)              (None, 256)               131328    \n",
      "_________________________________________________________________\n",
      "dropout_2 (Dropout)          (None, 256)               0         \n",
      "_________________________________________________________________\n",
      "dense_3 (Dense)              (None, 128)               32896     \n",
      "_________________________________________________________________\n",
      "dropout_3 (Dropout)          (None, 128)               0         \n",
      "_________________________________________________________________\n",
      "dense_4 (Dense)              (None, 64)                8256      \n",
      "_________________________________________________________________\n",
      "dropout_4 (Dropout)          (None, 64)                0         \n",
      "_________________________________________________________________\n",
      "dense_5 (Dense)              (None, 2)                 130       \n",
      "=================================================================\n",
      "Total params: 97,036,354\n",
      "Trainable params: 97,036,354\n",
      "Non-trainable params: 0\n",
      "_________________________________________________________________\n"
     ]
    }
   ],
   "source": [
    "# compiling the model\n",
    "model.compile(loss='categorical_crossentropy',optimizer='Adam',metrics=['accuracy'])\n",
    "model.summary()"
   ]
  },
  {
   "cell_type": "code",
   "execution_count": null,
   "metadata": {
    "colab": {
     "base_uri": "https://localhost:8080/"
    },
    "id": "qvTUIPC1z1MB",
    "outputId": "d7656aa6-82fe-4b2a-d11d-0a0c96c41e8b"
   },
   "outputs": [
    {
     "name": "stdout",
     "output_type": "stream",
     "text": [
      "Epoch 1/200\n",
      "27/27 [==============================] - 5s 191ms/step - loss: 0.8379 - accuracy: 0.5339 - val_loss: 0.6813 - val_accuracy: 0.5426\n",
      "Epoch 2/200\n",
      "27/27 [==============================] - 21s 793ms/step - loss: 0.6988 - accuracy: 0.5584 - val_loss: 0.5453 - val_accuracy: 0.8605\n",
      "Epoch 3/200\n",
      "27/27 [==============================] - 32s 1s/step - loss: 0.4337 - accuracy: 0.7856 - val_loss: 0.1547 - val_accuracy: 0.9350\n",
      "Epoch 4/200\n",
      "27/27 [==============================] - 29s 1s/step - loss: 0.1325 - accuracy: 0.9512 - val_loss: 0.0220 - val_accuracy: 0.9929\n",
      "Epoch 5/200\n",
      "27/27 [==============================] - 25s 935ms/step - loss: 0.0705 - accuracy: 0.9799 - val_loss: 0.0117 - val_accuracy: 0.9953\n",
      "Epoch 6/200\n",
      "27/27 [==============================] - 1s 34ms/step - loss: 0.0401 - accuracy: 0.9899 - val_loss: 0.0191 - val_accuracy: 0.9929\n",
      "Epoch 7/200\n",
      "27/27 [==============================] - 1s 35ms/step - loss: 0.0223 - accuracy: 0.9932 - val_loss: 0.0149 - val_accuracy: 0.9965\n",
      "Epoch 8/200\n",
      "27/27 [==============================] - 1s 33ms/step - loss: 0.0122 - accuracy: 0.9970 - val_loss: 0.0193 - val_accuracy: 0.9941\n",
      "Epoch 9/200\n",
      "27/27 [==============================] - 1s 33ms/step - loss: 0.0326 - accuracy: 0.9923 - val_loss: 0.0131 - val_accuracy: 0.9953\n",
      "Epoch 10/200\n",
      "27/27 [==============================] - 29s 1s/step - loss: 0.0295 - accuracy: 0.9926 - val_loss: 0.0061 - val_accuracy: 0.9988\n",
      "Epoch 11/200\n",
      "27/27 [==============================] - 1s 34ms/step - loss: 0.0162 - accuracy: 0.9956 - val_loss: 0.0083 - val_accuracy: 0.9976\n",
      "Epoch 12/200\n",
      "27/27 [==============================] - 1s 33ms/step - loss: 0.0127 - accuracy: 0.9959 - val_loss: 0.0084 - val_accuracy: 0.9965\n",
      "Epoch 13/200\n",
      "27/27 [==============================] - 25s 922ms/step - loss: 0.0081 - accuracy: 0.9985 - val_loss: 0.0037 - val_accuracy: 0.9988\n",
      "Epoch 14/200\n",
      "27/27 [==============================] - 1s 34ms/step - loss: 0.0055 - accuracy: 0.9985 - val_loss: 0.0041 - val_accuracy: 0.9988\n",
      "Epoch 15/200\n",
      "27/27 [==============================] - 1s 33ms/step - loss: 0.0025 - accuracy: 0.9994 - val_loss: 0.0062 - val_accuracy: 0.9988\n",
      "Epoch 16/200\n",
      "27/27 [==============================] - 23s 858ms/step - loss: 0.0082 - accuracy: 0.9970 - val_loss: 0.0025 - val_accuracy: 0.9988\n",
      "Epoch 17/200\n",
      "27/27 [==============================] - 1s 33ms/step - loss: 0.0054 - accuracy: 0.9973 - val_loss: 0.0027 - val_accuracy: 0.9988\n",
      "Epoch 18/200\n",
      "27/27 [==============================] - 32s 1s/step - loss: 0.0192 - accuracy: 0.9938 - val_loss: 5.5958e-04 - val_accuracy: 1.0000\n",
      "Epoch 19/200\n",
      "27/27 [==============================] - 1s 35ms/step - loss: 0.0062 - accuracy: 0.9985 - val_loss: 0.0079 - val_accuracy: 0.9988\n",
      "Epoch 20/200\n",
      "27/27 [==============================] - 1s 34ms/step - loss: 0.0112 - accuracy: 0.9962 - val_loss: 0.0304 - val_accuracy: 0.9965\n",
      "Epoch 21/200\n",
      "27/27 [==============================] - 1s 34ms/step - loss: 0.0134 - accuracy: 0.9970 - val_loss: 0.0018 - val_accuracy: 0.9988\n",
      "Epoch 22/200\n",
      "27/27 [==============================] - 1s 34ms/step - loss: 0.0031 - accuracy: 0.9988 - val_loss: 0.0043 - val_accuracy: 0.9988\n",
      "Epoch 23/200\n",
      "27/27 [==============================] - 1s 33ms/step - loss: 0.0041 - accuracy: 0.9991 - val_loss: 0.0064 - val_accuracy: 0.9988\n",
      "Epoch 24/200\n",
      "27/27 [==============================] - 1s 34ms/step - loss: 0.0049 - accuracy: 0.9988 - val_loss: 0.0036 - val_accuracy: 0.9988\n",
      "Epoch 25/200\n",
      "27/27 [==============================] - 1s 34ms/step - loss: 0.0049 - accuracy: 0.9991 - val_loss: 0.0038 - val_accuracy: 0.9988\n",
      "Epoch 26/200\n",
      "27/27 [==============================] - 1s 34ms/step - loss: 0.0013 - accuracy: 0.9997 - val_loss: 0.0052 - val_accuracy: 0.9988\n",
      "Epoch 27/200\n",
      "27/27 [==============================] - 1s 34ms/step - loss: 0.0019 - accuracy: 0.9991 - val_loss: 0.0097 - val_accuracy: 0.9988\n",
      "Epoch 28/200\n",
      "27/27 [==============================] - 1s 35ms/step - loss: 0.0086 - accuracy: 0.9982 - val_loss: 0.0113 - val_accuracy: 0.9988\n",
      "Epoch 29/200\n",
      "27/27 [==============================] - 1s 35ms/step - loss: 0.0140 - accuracy: 0.9979 - val_loss: 0.0081 - val_accuracy: 0.9988\n",
      "Epoch 30/200\n",
      "27/27 [==============================] - 1s 34ms/step - loss: 0.0057 - accuracy: 0.9985 - val_loss: 0.0280 - val_accuracy: 0.9929\n",
      "Epoch 31/200\n",
      "27/27 [==============================] - 1s 34ms/step - loss: 0.0052 - accuracy: 0.9988 - val_loss: 0.0086 - val_accuracy: 0.9976\n",
      "Epoch 32/200\n",
      "27/27 [==============================] - 1s 34ms/step - loss: 0.0066 - accuracy: 0.9979 - val_loss: 0.0073 - val_accuracy: 0.9988\n",
      "Epoch 33/200\n",
      "27/27 [==============================] - 1s 34ms/step - loss: 0.0030 - accuracy: 0.9991 - val_loss: 0.0122 - val_accuracy: 0.9976\n",
      "Epoch 34/200\n",
      "27/27 [==============================] - 1s 35ms/step - loss: 0.0040 - accuracy: 0.9988 - val_loss: 0.0132 - val_accuracy: 0.9965\n",
      "Epoch 35/200\n",
      "27/27 [==============================] - 1s 35ms/step - loss: 0.0116 - accuracy: 0.9985 - val_loss: 0.0075 - val_accuracy: 0.9988\n",
      "Epoch 36/200\n",
      "27/27 [==============================] - 1s 34ms/step - loss: 0.0026 - accuracy: 0.9991 - val_loss: 0.0081 - val_accuracy: 0.9988\n",
      "Epoch 37/200\n",
      "27/27 [==============================] - 1s 35ms/step - loss: 9.0603e-04 - accuracy: 1.0000 - val_loss: 0.0210 - val_accuracy: 0.9976\n",
      "Epoch 38/200\n",
      "27/27 [==============================] - 1s 35ms/step - loss: 4.1820e-04 - accuracy: 1.0000 - val_loss: 0.0148 - val_accuracy: 0.9988\n",
      "Epoch 39/200\n",
      "27/27 [==============================] - 1s 34ms/step - loss: 3.1177e-04 - accuracy: 1.0000 - val_loss: 0.0162 - val_accuracy: 0.9988\n",
      "Epoch 40/200\n",
      "27/27 [==============================] - 1s 35ms/step - loss: 3.4638e-04 - accuracy: 1.0000 - val_loss: 0.0140 - val_accuracy: 0.9988\n",
      "Epoch 41/200\n",
      "27/27 [==============================] - 1s 34ms/step - loss: 1.1697e-04 - accuracy: 1.0000 - val_loss: 0.0144 - val_accuracy: 0.9988\n",
      "Epoch 42/200\n",
      "27/27 [==============================] - 1s 34ms/step - loss: 2.8401e-04 - accuracy: 0.9997 - val_loss: 0.0161 - val_accuracy: 0.9976\n",
      "Epoch 43/200\n",
      "27/27 [==============================] - 1s 34ms/step - loss: 0.0028 - accuracy: 0.9985 - val_loss: 0.0143 - val_accuracy: 0.9988\n",
      "Epoch 44/200\n",
      "27/27 [==============================] - 1s 33ms/step - loss: 0.0024 - accuracy: 0.9994 - val_loss: 0.0092 - val_accuracy: 0.9988\n",
      "Epoch 45/200\n",
      "27/27 [==============================] - 1s 35ms/step - loss: 0.0075 - accuracy: 0.9985 - val_loss: 0.0269 - val_accuracy: 0.9953\n",
      "Epoch 46/200\n",
      "27/27 [==============================] - 1s 34ms/step - loss: 0.0016 - accuracy: 0.9994 - val_loss: 0.0123 - val_accuracy: 0.9988\n",
      "Epoch 47/200\n",
      "27/27 [==============================] - 1s 34ms/step - loss: 0.0011 - accuracy: 0.9997 - val_loss: 0.0239 - val_accuracy: 0.9965\n",
      "Epoch 48/200\n",
      "27/27 [==============================] - 1s 34ms/step - loss: 0.0101 - accuracy: 0.9985 - val_loss: 0.0326 - val_accuracy: 0.9953\n",
      "Epoch 49/200\n",
      "27/27 [==============================] - 1s 34ms/step - loss: 0.0231 - accuracy: 0.9965 - val_loss: 0.0151 - val_accuracy: 0.9965\n",
      "Epoch 50/200\n",
      "27/27 [==============================] - 1s 33ms/step - loss: 0.0154 - accuracy: 0.9973 - val_loss: 0.0059 - val_accuracy: 0.9976\n",
      "Epoch 51/200\n",
      "27/27 [==============================] - 1s 34ms/step - loss: 0.0101 - accuracy: 0.9976 - val_loss: 0.0253 - val_accuracy: 0.9965\n",
      "Epoch 52/200\n",
      "27/27 [==============================] - 1s 34ms/step - loss: 0.0050 - accuracy: 0.9988 - val_loss: 0.0064 - val_accuracy: 0.9988\n",
      "Epoch 53/200\n",
      "27/27 [==============================] - 1s 34ms/step - loss: 0.0039 - accuracy: 0.9988 - val_loss: 0.0112 - val_accuracy: 0.9988\n",
      "Epoch 54/200\n",
      "27/27 [==============================] - 1s 34ms/step - loss: 0.0010 - accuracy: 0.9997 - val_loss: 0.0214 - val_accuracy: 0.9976\n",
      "Epoch 55/200\n",
      "27/27 [==============================] - 1s 34ms/step - loss: 0.0040 - accuracy: 0.9994 - val_loss: 0.0074 - val_accuracy: 0.9976\n",
      "Epoch 56/200\n",
      "27/27 [==============================] - 1s 34ms/step - loss: 7.6478e-04 - accuracy: 1.0000 - val_loss: 0.0122 - val_accuracy: 0.9988\n",
      "Epoch 57/200\n",
      "27/27 [==============================] - 1s 34ms/step - loss: 3.3468e-04 - accuracy: 1.0000 - val_loss: 0.0128 - val_accuracy: 0.9988\n",
      "Epoch 58/200\n",
      "27/27 [==============================] - 1s 35ms/step - loss: 8.2567e-04 - accuracy: 0.9997 - val_loss: 0.0135 - val_accuracy: 0.9988\n",
      "Epoch 59/200\n",
      "27/27 [==============================] - 1s 34ms/step - loss: 2.3494e-04 - accuracy: 1.0000 - val_loss: 0.0154 - val_accuracy: 0.9988\n",
      "Epoch 60/200\n",
      "27/27 [==============================] - 1s 35ms/step - loss: 1.6862e-04 - accuracy: 1.0000 - val_loss: 0.0161 - val_accuracy: 0.9988\n",
      "Epoch 61/200\n",
      "27/27 [==============================] - 1s 34ms/step - loss: 1.0519e-04 - accuracy: 1.0000 - val_loss: 0.0178 - val_accuracy: 0.9988\n",
      "Epoch 62/200\n",
      "27/27 [==============================] - 1s 34ms/step - loss: 3.3162e-04 - accuracy: 1.0000 - val_loss: 0.0294 - val_accuracy: 0.9976\n",
      "Epoch 63/200\n",
      "27/27 [==============================] - 1s 35ms/step - loss: 8.2602e-04 - accuracy: 0.9997 - val_loss: 0.0324 - val_accuracy: 0.9976\n",
      "Epoch 64/200\n",
      "27/27 [==============================] - 1s 35ms/step - loss: 0.0062 - accuracy: 0.9982 - val_loss: 0.0192 - val_accuracy: 0.9988\n",
      "Epoch 65/200\n",
      "27/27 [==============================] - 1s 34ms/step - loss: 0.0039 - accuracy: 0.9985 - val_loss: 0.0353 - val_accuracy: 0.9976\n",
      "Epoch 66/200\n",
      "27/27 [==============================] - 1s 34ms/step - loss: 0.0102 - accuracy: 0.9979 - val_loss: 0.0248 - val_accuracy: 0.9965\n",
      "Epoch 67/200\n",
      "27/27 [==============================] - 1s 35ms/step - loss: 0.0136 - accuracy: 0.9979 - val_loss: 0.0278 - val_accuracy: 0.9965\n",
      "Epoch 68/200\n",
      "27/27 [==============================] - 1s 34ms/step - loss: 0.0080 - accuracy: 0.9976 - val_loss: 0.0163 - val_accuracy: 0.9976\n",
      "Epoch 69/200\n",
      "27/27 [==============================] - 1s 34ms/step - loss: 0.0074 - accuracy: 0.9982 - val_loss: 0.0165 - val_accuracy: 0.9976\n",
      "Epoch 70/200\n",
      "27/27 [==============================] - 1s 34ms/step - loss: 0.0028 - accuracy: 0.9991 - val_loss: 0.0284 - val_accuracy: 0.9976\n",
      "Epoch 71/200\n",
      "27/27 [==============================] - 1s 34ms/step - loss: 0.0011 - accuracy: 1.0000 - val_loss: 0.0131 - val_accuracy: 0.9976\n",
      "Epoch 72/200\n",
      "27/27 [==============================] - 1s 34ms/step - loss: 0.0043 - accuracy: 0.9997 - val_loss: 0.1279 - val_accuracy: 0.9953\n",
      "Epoch 73/200\n",
      "27/27 [==============================] - 1s 35ms/step - loss: 0.0018 - accuracy: 0.9994 - val_loss: 0.0374 - val_accuracy: 0.9976\n",
      "Epoch 74/200\n",
      "27/27 [==============================] - 1s 34ms/step - loss: 0.0079 - accuracy: 0.9982 - val_loss: 0.0674 - val_accuracy: 0.9976\n",
      "Epoch 75/200\n",
      "27/27 [==============================] - 1s 34ms/step - loss: 0.0042 - accuracy: 0.9988 - val_loss: 0.0539 - val_accuracy: 0.9976\n",
      "Epoch 76/200\n",
      "27/27 [==============================] - 1s 35ms/step - loss: 0.0139 - accuracy: 0.9962 - val_loss: 0.0472 - val_accuracy: 0.9929\n",
      "Epoch 77/200\n",
      "27/27 [==============================] - 1s 36ms/step - loss: 0.0156 - accuracy: 0.9970 - val_loss: 0.0291 - val_accuracy: 0.9976\n",
      "Epoch 78/200\n",
      "27/27 [==============================] - 1s 36ms/step - loss: 0.0042 - accuracy: 0.9988 - val_loss: 0.0525 - val_accuracy: 0.9976\n",
      "Epoch 79/200\n",
      "27/27 [==============================] - 1s 36ms/step - loss: 0.0056 - accuracy: 0.9982 - val_loss: 0.0429 - val_accuracy: 0.9976\n",
      "Epoch 80/200\n",
      "27/27 [==============================] - 1s 35ms/step - loss: 0.0022 - accuracy: 0.9994 - val_loss: 0.0294 - val_accuracy: 0.9976\n",
      "Epoch 81/200\n",
      "27/27 [==============================] - 1s 35ms/step - loss: 0.0016 - accuracy: 0.9997 - val_loss: 0.0378 - val_accuracy: 0.9976\n",
      "Epoch 82/200\n",
      "27/27 [==============================] - 1s 35ms/step - loss: 1.5673e-04 - accuracy: 1.0000 - val_loss: 0.0342 - val_accuracy: 0.9976\n",
      "Epoch 83/200\n",
      "27/27 [==============================] - 1s 35ms/step - loss: 4.6674e-04 - accuracy: 0.9997 - val_loss: 0.0443 - val_accuracy: 0.9976\n",
      "Epoch 84/200\n",
      "27/27 [==============================] - 1s 35ms/step - loss: 0.0044 - accuracy: 0.9991 - val_loss: 0.0278 - val_accuracy: 0.9976\n",
      "Epoch 85/200\n",
      "27/27 [==============================] - 1s 36ms/step - loss: 0.0180 - accuracy: 0.9965 - val_loss: 0.0287 - val_accuracy: 0.9965\n",
      "Epoch 86/200\n",
      "27/27 [==============================] - 1s 35ms/step - loss: 0.0080 - accuracy: 0.9985 - val_loss: 0.0265 - val_accuracy: 0.9953\n",
      "Epoch 87/200\n",
      "27/27 [==============================] - 1s 34ms/step - loss: 0.0081 - accuracy: 0.9988 - val_loss: 0.0346 - val_accuracy: 0.9976\n",
      "Epoch 88/200\n",
      "27/27 [==============================] - 1s 35ms/step - loss: 0.0012 - accuracy: 0.9997 - val_loss: 0.0299 - val_accuracy: 0.9965\n",
      "Epoch 89/200\n",
      "27/27 [==============================] - 1s 34ms/step - loss: 0.0012 - accuracy: 0.9997 - val_loss: 0.0389 - val_accuracy: 0.9976\n",
      "Epoch 90/200\n",
      "27/27 [==============================] - 1s 34ms/step - loss: 5.6000e-04 - accuracy: 0.9997 - val_loss: 0.0517 - val_accuracy: 0.9965\n",
      "Epoch 91/200\n",
      "27/27 [==============================] - 1s 34ms/step - loss: 0.0015 - accuracy: 0.9997 - val_loss: 0.0440 - val_accuracy: 0.9976\n",
      "Epoch 92/200\n",
      "27/27 [==============================] - 1s 34ms/step - loss: 1.4284e-04 - accuracy: 1.0000 - val_loss: 0.0437 - val_accuracy: 0.9976\n",
      "Epoch 93/200\n",
      "27/27 [==============================] - 1s 35ms/step - loss: 1.8630e-04 - accuracy: 1.0000 - val_loss: 0.0490 - val_accuracy: 0.9976\n",
      "Epoch 94/200\n",
      "27/27 [==============================] - 1s 35ms/step - loss: 6.0106e-05 - accuracy: 1.0000 - val_loss: 0.0513 - val_accuracy: 0.9976\n",
      "Epoch 95/200\n",
      "27/27 [==============================] - 1s 35ms/step - loss: 8.6726e-05 - accuracy: 1.0000 - val_loss: 0.0509 - val_accuracy: 0.9976\n",
      "Epoch 96/200\n",
      "27/27 [==============================] - 1s 34ms/step - loss: 9.5165e-04 - accuracy: 0.9997 - val_loss: 0.0558 - val_accuracy: 0.9976\n",
      "Epoch 97/200\n",
      "27/27 [==============================] - 1s 34ms/step - loss: 0.0027 - accuracy: 0.9991 - val_loss: 0.0652 - val_accuracy: 0.9976\n",
      "Epoch 98/200\n",
      "27/27 [==============================] - 1s 34ms/step - loss: 0.0063 - accuracy: 0.9991 - val_loss: 0.0527 - val_accuracy: 0.9976\n",
      "Epoch 99/200\n",
      "27/27 [==============================] - 1s 34ms/step - loss: 0.0026 - accuracy: 0.9991 - val_loss: 0.0183 - val_accuracy: 0.9988\n",
      "Epoch 100/200\n",
      "27/27 [==============================] - 1s 34ms/step - loss: 0.0015 - accuracy: 0.9994 - val_loss: 0.0311 - val_accuracy: 0.9976\n",
      "Epoch 101/200\n",
      "27/27 [==============================] - 1s 34ms/step - loss: 0.0016 - accuracy: 0.9991 - val_loss: 0.0313 - val_accuracy: 0.9976\n",
      "Epoch 102/200\n",
      "27/27 [==============================] - 1s 34ms/step - loss: 0.0015 - accuracy: 0.9994 - val_loss: 0.0359 - val_accuracy: 0.9965\n",
      "Epoch 103/200\n",
      "27/27 [==============================] - 1s 34ms/step - loss: 0.0081 - accuracy: 0.9991 - val_loss: 0.0238 - val_accuracy: 0.9976\n",
      "Epoch 104/200\n",
      "27/27 [==============================] - 1s 34ms/step - loss: 4.9898e-04 - accuracy: 1.0000 - val_loss: 0.0382 - val_accuracy: 0.9965\n",
      "Epoch 105/200\n",
      "27/27 [==============================] - 1s 34ms/step - loss: 1.5073e-04 - accuracy: 1.0000 - val_loss: 0.0322 - val_accuracy: 0.9976\n",
      "Epoch 106/200\n",
      "27/27 [==============================] - 1s 35ms/step - loss: 7.7750e-05 - accuracy: 1.0000 - val_loss: 0.0298 - val_accuracy: 0.9976\n",
      "Epoch 107/200\n",
      "27/27 [==============================] - 1s 35ms/step - loss: 7.9437e-05 - accuracy: 1.0000 - val_loss: 0.0294 - val_accuracy: 0.9976\n",
      "Epoch 108/200\n",
      "27/27 [==============================] - 1s 34ms/step - loss: 3.4912e-04 - accuracy: 0.9997 - val_loss: 0.0408 - val_accuracy: 0.9965\n",
      "Epoch 109/200\n",
      "27/27 [==============================] - 1s 34ms/step - loss: 0.0027 - accuracy: 0.9997 - val_loss: 0.0203 - val_accuracy: 0.9988\n",
      "Epoch 110/200\n",
      "27/27 [==============================] - 1s 33ms/step - loss: 0.0084 - accuracy: 0.9979 - val_loss: 0.0123 - val_accuracy: 0.9988\n",
      "Epoch 111/200\n",
      "27/27 [==============================] - 1s 34ms/step - loss: 0.0032 - accuracy: 0.9991 - val_loss: 0.0119 - val_accuracy: 0.9988\n",
      "Epoch 112/200\n",
      "27/27 [==============================] - 1s 34ms/step - loss: 0.0035 - accuracy: 0.9994 - val_loss: 0.0196 - val_accuracy: 0.9976\n",
      "Epoch 113/200\n",
      "27/27 [==============================] - 1s 34ms/step - loss: 0.0015 - accuracy: 0.9997 - val_loss: 0.0197 - val_accuracy: 0.9976\n",
      "Epoch 114/200\n",
      "27/27 [==============================] - 1s 34ms/step - loss: 4.4510e-04 - accuracy: 0.9997 - val_loss: 0.0195 - val_accuracy: 0.9976\n",
      "Epoch 115/200\n",
      "27/27 [==============================] - 1s 35ms/step - loss: 1.5485e-04 - accuracy: 1.0000 - val_loss: 0.0177 - val_accuracy: 0.9988\n",
      "Epoch 116/200\n",
      "27/27 [==============================] - 1s 34ms/step - loss: 6.5624e-05 - accuracy: 1.0000 - val_loss: 0.0196 - val_accuracy: 0.9988\n",
      "Epoch 117/200\n",
      "27/27 [==============================] - 1s 35ms/step - loss: 3.0165e-05 - accuracy: 1.0000 - val_loss: 0.0219 - val_accuracy: 0.9976\n",
      "Epoch 118/200\n",
      "27/27 [==============================] - 1s 35ms/step - loss: 4.1886e-05 - accuracy: 1.0000 - val_loss: 0.0220 - val_accuracy: 0.9976\n",
      "Epoch 119/200\n",
      "27/27 [==============================] - 1s 34ms/step - loss: 1.3132e-04 - accuracy: 1.0000 - val_loss: 0.0232 - val_accuracy: 0.9976\n",
      "Epoch 120/200\n",
      "27/27 [==============================] - 1s 34ms/step - loss: 1.8436e-04 - accuracy: 1.0000 - val_loss: 0.0251 - val_accuracy: 0.9976\n",
      "Epoch 121/200\n",
      "27/27 [==============================] - 1s 34ms/step - loss: 1.7705e-04 - accuracy: 1.0000 - val_loss: 0.0326 - val_accuracy: 0.9976\n",
      "Epoch 122/200\n",
      "27/27 [==============================] - 1s 34ms/step - loss: 6.6677e-05 - accuracy: 1.0000 - val_loss: 0.0331 - val_accuracy: 0.9976\n",
      "Epoch 123/200\n",
      "27/27 [==============================] - 1s 34ms/step - loss: 4.1396e-04 - accuracy: 0.9997 - val_loss: 0.0264 - val_accuracy: 0.9976\n",
      "Epoch 124/200\n",
      "27/27 [==============================] - 1s 34ms/step - loss: 4.3276e-04 - accuracy: 0.9997 - val_loss: 0.0196 - val_accuracy: 0.9988\n",
      "Epoch 125/200\n",
      "27/27 [==============================] - 1s 34ms/step - loss: 0.0018 - accuracy: 0.9994 - val_loss: 0.0235 - val_accuracy: 0.9976\n",
      "Epoch 126/200\n",
      "27/27 [==============================] - 1s 34ms/step - loss: 1.1023e-04 - accuracy: 1.0000 - val_loss: 0.0219 - val_accuracy: 0.9988\n",
      "Epoch 127/200\n",
      "27/27 [==============================] - 1s 34ms/step - loss: 5.7496e-04 - accuracy: 0.9997 - val_loss: 0.0342 - val_accuracy: 0.9976\n",
      "Epoch 128/200\n",
      "27/27 [==============================] - 1s 34ms/step - loss: 0.0060 - accuracy: 0.9988 - val_loss: 0.0254 - val_accuracy: 0.9976\n",
      "Epoch 129/200\n",
      "27/27 [==============================] - 1s 34ms/step - loss: 0.0030 - accuracy: 0.9991 - val_loss: 0.0345 - val_accuracy: 0.9976\n",
      "Epoch 130/200\n",
      "27/27 [==============================] - 1s 34ms/step - loss: 0.0031 - accuracy: 0.9994 - val_loss: 0.0231 - val_accuracy: 0.9976\n",
      "Epoch 131/200\n",
      "27/27 [==============================] - 1s 34ms/step - loss: 8.5596e-04 - accuracy: 1.0000 - val_loss: 0.0339 - val_accuracy: 0.9976\n",
      "Epoch 132/200\n",
      "27/27 [==============================] - 1s 34ms/step - loss: 3.8797e-04 - accuracy: 1.0000 - val_loss: 0.0400 - val_accuracy: 0.9976\n",
      "Epoch 133/200\n",
      "27/27 [==============================] - 1s 34ms/step - loss: 0.0018 - accuracy: 0.9994 - val_loss: 0.0408 - val_accuracy: 0.9976\n",
      "Epoch 134/200\n",
      "27/27 [==============================] - 1s 34ms/step - loss: 0.0106 - accuracy: 0.9994 - val_loss: 0.0287 - val_accuracy: 0.9976\n",
      "Epoch 135/200\n",
      "27/27 [==============================] - 1s 34ms/step - loss: 0.0067 - accuracy: 0.9988 - val_loss: 0.0274 - val_accuracy: 0.9976\n",
      "Epoch 136/200\n",
      "27/27 [==============================] - 1s 34ms/step - loss: 9.7754e-04 - accuracy: 0.9997 - val_loss: 0.0453 - val_accuracy: 0.9976\n",
      "Epoch 137/200\n",
      "27/27 [==============================] - 1s 35ms/step - loss: 0.0067 - accuracy: 0.9985 - val_loss: 0.0223 - val_accuracy: 0.9988\n",
      "Epoch 138/200\n",
      "27/27 [==============================] - 1s 34ms/step - loss: 0.0082 - accuracy: 0.9982 - val_loss: 0.0379 - val_accuracy: 0.9976\n",
      "Epoch 139/200\n",
      "27/27 [==============================] - 1s 34ms/step - loss: 0.0043 - accuracy: 0.9988 - val_loss: 0.0218 - val_accuracy: 0.9965\n",
      "Epoch 140/200\n",
      "27/27 [==============================] - 1s 35ms/step - loss: 0.0053 - accuracy: 0.9982 - val_loss: 0.0204 - val_accuracy: 0.9976\n",
      "Epoch 141/200\n",
      "27/27 [==============================] - 1s 35ms/step - loss: 7.9833e-04 - accuracy: 1.0000 - val_loss: 0.0326 - val_accuracy: 0.9976\n",
      "Epoch 142/200\n",
      "27/27 [==============================] - 1s 35ms/step - loss: 0.0061 - accuracy: 0.9994 - val_loss: 0.0078 - val_accuracy: 0.9965\n",
      "Epoch 143/200\n",
      "27/27 [==============================] - 1s 34ms/step - loss: 0.0080 - accuracy: 0.9979 - val_loss: 0.0126 - val_accuracy: 0.9988\n",
      "Epoch 144/200\n",
      "27/27 [==============================] - 1s 34ms/step - loss: 0.0043 - accuracy: 0.9994 - val_loss: 0.0129 - val_accuracy: 0.9988\n",
      "Epoch 145/200\n",
      "27/27 [==============================] - 1s 34ms/step - loss: 0.0010 - accuracy: 0.9994 - val_loss: 0.0174 - val_accuracy: 0.9988\n",
      "Epoch 146/200\n",
      "27/27 [==============================] - 1s 34ms/step - loss: 4.1723e-04 - accuracy: 1.0000 - val_loss: 0.0197 - val_accuracy: 0.9988\n",
      "Epoch 147/200\n",
      "27/27 [==============================] - 1s 34ms/step - loss: 8.5116e-05 - accuracy: 1.0000 - val_loss: 0.0186 - val_accuracy: 0.9988\n",
      "Epoch 148/200\n",
      "27/27 [==============================] - 1s 34ms/step - loss: 6.6295e-05 - accuracy: 1.0000 - val_loss: 0.0208 - val_accuracy: 0.9988\n",
      "Epoch 149/200\n",
      "27/27 [==============================] - 1s 34ms/step - loss: 3.8933e-04 - accuracy: 0.9997 - val_loss: 0.0311 - val_accuracy: 0.9988\n",
      "Epoch 150/200\n",
      "27/27 [==============================] - 1s 34ms/step - loss: 2.9796e-04 - accuracy: 1.0000 - val_loss: 0.0268 - val_accuracy: 0.9988\n",
      "Epoch 151/200\n",
      "27/27 [==============================] - 1s 34ms/step - loss: 1.6504e-04 - accuracy: 1.0000 - val_loss: 0.0242 - val_accuracy: 0.9988\n",
      "Epoch 152/200\n",
      "27/27 [==============================] - 1s 34ms/step - loss: 0.0014 - accuracy: 0.9997 - val_loss: 0.0346 - val_accuracy: 0.9976\n",
      "Epoch 153/200\n",
      "27/27 [==============================] - 1s 34ms/step - loss: 0.0033 - accuracy: 0.9988 - val_loss: 0.0347 - val_accuracy: 0.9953\n",
      "Epoch 154/200\n",
      "27/27 [==============================] - 1s 35ms/step - loss: 0.0013 - accuracy: 0.9997 - val_loss: 0.0230 - val_accuracy: 0.9988\n",
      "Epoch 155/200\n",
      "27/27 [==============================] - 1s 35ms/step - loss: 0.0082 - accuracy: 0.9988 - val_loss: 0.0280 - val_accuracy: 0.9976\n",
      "Epoch 156/200\n",
      "27/27 [==============================] - 1s 35ms/step - loss: 0.0192 - accuracy: 0.9953 - val_loss: 0.0038 - val_accuracy: 0.9988\n",
      "Epoch 157/200\n",
      "27/27 [==============================] - 1s 34ms/step - loss: 0.0084 - accuracy: 0.9982 - val_loss: 0.0120 - val_accuracy: 0.9988\n",
      "Epoch 158/200\n",
      "27/27 [==============================] - 1s 34ms/step - loss: 9.3710e-04 - accuracy: 1.0000 - val_loss: 0.0152 - val_accuracy: 0.9988\n",
      "Epoch 159/200\n",
      "27/27 [==============================] - 1s 34ms/step - loss: 9.1443e-05 - accuracy: 1.0000 - val_loss: 0.0210 - val_accuracy: 0.9988\n",
      "Epoch 160/200\n",
      "27/27 [==============================] - 1s 34ms/step - loss: 0.0051 - accuracy: 0.9991 - val_loss: 0.0103 - val_accuracy: 0.9988\n",
      "Epoch 161/200\n",
      "27/27 [==============================] - 1s 35ms/step - loss: 0.0018 - accuracy: 0.9994 - val_loss: 0.0342 - val_accuracy: 0.9976\n",
      "Epoch 162/200\n",
      "27/27 [==============================] - 1s 34ms/step - loss: 1.0360e-04 - accuracy: 1.0000 - val_loss: 0.0409 - val_accuracy: 0.9976\n",
      "Epoch 163/200\n",
      "27/27 [==============================] - 1s 34ms/step - loss: 2.0076e-04 - accuracy: 1.0000 - val_loss: 0.0369 - val_accuracy: 0.9976\n",
      "Epoch 164/200\n",
      "27/27 [==============================] - 1s 34ms/step - loss: 0.0145 - accuracy: 0.9976 - val_loss: 0.0213 - val_accuracy: 0.9965\n",
      "Epoch 165/200\n",
      "27/27 [==============================] - 1s 34ms/step - loss: 0.0037 - accuracy: 0.9994 - val_loss: 0.0169 - val_accuracy: 0.9976\n",
      "Epoch 166/200\n",
      "27/27 [==============================] - 1s 34ms/step - loss: 8.8840e-04 - accuracy: 0.9997 - val_loss: 0.0231 - val_accuracy: 0.9976\n",
      "Epoch 167/200\n",
      "27/27 [==============================] - 1s 35ms/step - loss: 0.0057 - accuracy: 0.9988 - val_loss: 0.0145 - val_accuracy: 0.9965\n",
      "Epoch 168/200\n",
      "27/27 [==============================] - 1s 35ms/step - loss: 8.3817e-04 - accuracy: 1.0000 - val_loss: 0.0225 - val_accuracy: 0.9976\n",
      "Epoch 169/200\n",
      "27/27 [==============================] - 1s 34ms/step - loss: 1.4201e-04 - accuracy: 1.0000 - val_loss: 0.0240 - val_accuracy: 0.9976\n",
      "Epoch 170/200\n",
      "27/27 [==============================] - 1s 34ms/step - loss: 1.5969e-04 - accuracy: 1.0000 - val_loss: 0.0268 - val_accuracy: 0.9976\n",
      "Epoch 171/200\n",
      "27/27 [==============================] - 1s 34ms/step - loss: 1.5245e-04 - accuracy: 1.0000 - val_loss: 0.0264 - val_accuracy: 0.9976\n",
      "Epoch 172/200\n",
      "27/27 [==============================] - 1s 34ms/step - loss: 3.0947e-04 - accuracy: 1.0000 - val_loss: 0.0257 - val_accuracy: 0.9976\n",
      "Epoch 173/200\n",
      "27/27 [==============================] - 1s 34ms/step - loss: 1.1690e-04 - accuracy: 1.0000 - val_loss: 0.0341 - val_accuracy: 0.9976\n",
      "Epoch 174/200\n",
      "27/27 [==============================] - 1s 34ms/step - loss: 4.8964e-05 - accuracy: 1.0000 - val_loss: 0.0429 - val_accuracy: 0.9976\n",
      "Epoch 175/200\n",
      "27/27 [==============================] - 1s 34ms/step - loss: 0.0070 - accuracy: 0.9979 - val_loss: 0.0347 - val_accuracy: 0.9976\n",
      "Epoch 176/200\n",
      "27/27 [==============================] - 1s 34ms/step - loss: 0.0047 - accuracy: 0.9988 - val_loss: 9.7457e-04 - val_accuracy: 0.9988\n",
      "Epoch 177/200\n",
      "27/27 [==============================] - 1s 35ms/step - loss: 0.0035 - accuracy: 0.9994 - val_loss: 0.0204 - val_accuracy: 0.9976\n",
      "Epoch 178/200\n",
      "27/27 [==============================] - 1s 35ms/step - loss: 9.2369e-04 - accuracy: 0.9997 - val_loss: 0.0443 - val_accuracy: 0.9965\n",
      "Epoch 179/200\n",
      "27/27 [==============================] - 1s 35ms/step - loss: 8.7977e-04 - accuracy: 0.9997 - val_loss: 0.0139 - val_accuracy: 0.9988\n",
      "Epoch 180/200\n",
      "27/27 [==============================] - 1s 35ms/step - loss: 0.0011 - accuracy: 0.9994 - val_loss: 0.0319 - val_accuracy: 0.9976\n",
      "Epoch 181/200\n",
      "27/27 [==============================] - 1s 35ms/step - loss: 5.2934e-04 - accuracy: 0.9997 - val_loss: 0.0422 - val_accuracy: 0.9976\n",
      "Epoch 182/200\n",
      "27/27 [==============================] - 1s 34ms/step - loss: 4.2702e-04 - accuracy: 1.0000 - val_loss: 0.0509 - val_accuracy: 0.9976\n",
      "Epoch 183/200\n",
      "27/27 [==============================] - 1s 34ms/step - loss: 9.2451e-05 - accuracy: 1.0000 - val_loss: 0.0333 - val_accuracy: 0.9976\n",
      "Epoch 184/200\n",
      "27/27 [==============================] - 1s 34ms/step - loss: 9.5653e-06 - accuracy: 1.0000 - val_loss: 0.0318 - val_accuracy: 0.9988\n",
      "Epoch 185/200\n",
      "27/27 [==============================] - 1s 35ms/step - loss: 7.0230e-05 - accuracy: 1.0000 - val_loss: 0.0315 - val_accuracy: 0.9988\n",
      "Epoch 186/200\n",
      "27/27 [==============================] - 1s 34ms/step - loss: 7.4602e-05 - accuracy: 1.0000 - val_loss: 0.0321 - val_accuracy: 0.9988\n",
      "Epoch 187/200\n",
      "27/27 [==============================] - 1s 34ms/step - loss: 5.2394e-06 - accuracy: 1.0000 - val_loss: 0.0321 - val_accuracy: 0.9988\n",
      "Epoch 188/200\n",
      "27/27 [==============================] - 1s 35ms/step - loss: 6.7836e-05 - accuracy: 1.0000 - val_loss: 0.0304 - val_accuracy: 0.9988\n",
      "Epoch 189/200\n",
      "27/27 [==============================] - 1s 34ms/step - loss: 9.0902e-06 - accuracy: 1.0000 - val_loss: 0.0298 - val_accuracy: 0.9988\n",
      "Epoch 190/200\n",
      "27/27 [==============================] - 1s 34ms/step - loss: 1.0834e-05 - accuracy: 1.0000 - val_loss: 0.0307 - val_accuracy: 0.9988\n",
      "Epoch 191/200\n",
      "27/27 [==============================] - 1s 34ms/step - loss: 0.0053 - accuracy: 0.9991 - val_loss: 0.0285 - val_accuracy: 0.9976\n",
      "Epoch 192/200\n",
      "27/27 [==============================] - 1s 34ms/step - loss: 0.0179 - accuracy: 0.9956 - val_loss: 0.0105 - val_accuracy: 0.9988\n",
      "Epoch 193/200\n",
      "27/27 [==============================] - 1s 34ms/step - loss: 0.0011 - accuracy: 0.9997 - val_loss: 0.0251 - val_accuracy: 0.9976\n",
      "Epoch 194/200\n",
      "27/27 [==============================] - 1s 34ms/step - loss: 0.0047 - accuracy: 0.9988 - val_loss: 0.0156 - val_accuracy: 0.9976\n",
      "Epoch 195/200\n",
      "27/27 [==============================] - 1s 35ms/step - loss: 0.0132 - accuracy: 0.9962 - val_loss: 0.0131 - val_accuracy: 0.9988\n",
      "Epoch 196/200\n",
      "27/27 [==============================] - 1s 34ms/step - loss: 0.0031 - accuracy: 0.9988 - val_loss: 0.0243 - val_accuracy: 0.9976\n",
      "Epoch 197/200\n",
      "27/27 [==============================] - 1s 34ms/step - loss: 0.0016 - accuracy: 0.9994 - val_loss: 0.0193 - val_accuracy: 0.9988\n",
      "Epoch 198/200\n",
      "27/27 [==============================] - 1s 35ms/step - loss: 3.6162e-04 - accuracy: 0.9997 - val_loss: 0.0376 - val_accuracy: 0.9976\n",
      "Epoch 199/200\n",
      "27/27 [==============================] - 1s 35ms/step - loss: 0.0028 - accuracy: 0.9994 - val_loss: 0.0384 - val_accuracy: 0.9976\n",
      "Epoch 200/200\n",
      "27/27 [==============================] - 1s 34ms/step - loss: 0.0012 - accuracy: 0.9997 - val_loss: 0.0317 - val_accuracy: 0.9965\n"
     ]
    },
    {
     "data": {
      "text/plain": [
       "<tensorflow.python.keras.callbacks.History at 0x7f10ca01ae80>"
      ]
     },
     "execution_count": 19,
     "metadata": {
      "tags": []
     },
     "output_type": "execute_result"
    }
   ],
   "source": [
    "# training the model\n",
    "model.fit(X_train, y_train, epochs=200, validation_data=(X_test, y_test), callbacks=[mcp_save], batch_size=128)"
   ]
  },
  {
   "cell_type": "code",
   "execution_count": null,
   "metadata": {
    "colab": {
     "base_uri": "https://localhost:8080/",
     "height": 206
    },
    "id": "1Y8lpezVz5u6",
    "outputId": "cd228aa4-a06b-4fe2-e9d0-c74e6ca308a2"
   },
   "outputs": [
    {
     "data": {
      "text/html": [
       "<div>\n",
       "<style scoped>\n",
       "    .dataframe tbody tr th:only-of-type {\n",
       "        vertical-align: middle;\n",
       "    }\n",
       "\n",
       "    .dataframe tbody tr th {\n",
       "        vertical-align: top;\n",
       "    }\n",
       "\n",
       "    .dataframe thead th {\n",
       "        text-align: right;\n",
       "    }\n",
       "</style>\n",
       "<table border=\"1\" class=\"dataframe\">\n",
       "  <thead>\n",
       "    <tr style=\"text-align: right;\">\n",
       "      <th></th>\n",
       "      <th>video_name</th>\n",
       "    </tr>\n",
       "  </thead>\n",
       "  <tbody>\n",
       "    <tr>\n",
       "      <th>0</th>\n",
       "      <td>Harassment/Harassment_h7.mp4</td>\n",
       "    </tr>\n",
       "    <tr>\n",
       "      <th>1</th>\n",
       "      <td>Harassment/Harassment_h11.mp4</td>\n",
       "    </tr>\n",
       "    <tr>\n",
       "      <th>2</th>\n",
       "      <td>Harassment/Harassment_h16.mp4</td>\n",
       "    </tr>\n",
       "    <tr>\n",
       "      <th>3</th>\n",
       "      <td>Harassment/Harassment_h20.mp4</td>\n",
       "    </tr>\n",
       "    <tr>\n",
       "      <th>4</th>\n",
       "      <td>Harassment/Harassment_h23.mp4</td>\n",
       "    </tr>\n",
       "  </tbody>\n",
       "</table>\n",
       "</div>"
      ],
      "text/plain": [
       "                      video_name\n",
       "0   Harassment/Harassment_h7.mp4\n",
       "1  Harassment/Harassment_h11.mp4\n",
       "2  Harassment/Harassment_h16.mp4\n",
       "3  Harassment/Harassment_h20.mp4\n",
       "4  Harassment/Harassment_h23.mp4"
      ]
     },
     "execution_count": 20,
     "metadata": {
      "tags": []
     },
     "output_type": "execute_result"
    }
   ],
   "source": [
    "# getting the test list\n",
    "f = open(\"test.txt\", \"r\")\n",
    "temp = f.read()\n",
    "videos = temp.split('\\n')\n",
    "\n",
    "# creating the dataframe\n",
    "test = pd.DataFrame()\n",
    "test['video_name'] = videos\n",
    "test = test[:-1]\n",
    "test_videos = test['video_name']\n",
    "test.head()"
   ]
  },
  {
   "cell_type": "code",
   "execution_count": null,
   "metadata": {
    "id": "pCk_6DLx1JrY"
   },
   "outputs": [],
   "source": [
    "# creating the tags\n",
    "train = pd.read_csv('Data/train_new.csv')\n",
    "y = train['class']\n",
    "y = pd.get_dummies(y)"
   ]
  },
  {
   "cell_type": "code",
   "execution_count": null,
   "metadata": {
    "colab": {
     "base_uri": "https://localhost:8080/"
    },
    "id": "QrAu2KzR1Usb",
    "outputId": "17477bf3-8882-407c-93de-70ab6a08abe3"
   },
   "outputs": [
    {
     "name": "stderr",
     "output_type": "stream",
     "text": [
      "\r",
      "  0%|          | 0/20 [00:00<?, ?it/s]"
     ]
    },
    {
     "name": "stdout",
     "output_type": "stream",
     "text": [
      "WARNING:tensorflow:From <ipython-input-22-9e251b484133>:46: Sequential.predict_classes (from tensorflow.python.keras.engine.sequential) is deprecated and will be removed after 2021-01-01.\n",
      "Instructions for updating:\n",
      "Please use instead:* `np.argmax(model.predict(x), axis=-1)`,   if your model does multi-class classification   (e.g. if it uses a `softmax` last-layer activation).* `(model.predict(x) > 0.5).astype(\"int32\")`,   if your model does binary classification   (e.g. if it uses a `sigmoid` last-layer activation).\n"
     ]
    },
    {
     "name": "stderr",
     "output_type": "stream",
     "text": [
      "100%|██████████| 20/20 [01:38<00:00,  4.93s/it]\n"
     ]
    }
   ],
   "source": [
    "from glob import glob\n",
    "from scipy import stats as s\n",
    "# creating two lists to store predicted and actual tags\n",
    "predict = []\n",
    "actual = []\n",
    "\n",
    "# for loop to extract frames from each test video\n",
    "for i in tqdm(range(test_videos.shape[0])):\n",
    "    count = 0\n",
    "    videoFile = test_videos[i]\n",
    "    cap = cv2.VideoCapture('Data/'+videoFile)   # capturing the video from the given path\n",
    "    frameRate = cap.get(5) #frame rate\n",
    "    x=1\n",
    "    # removing all other files from the temp folder\n",
    "    files = glob('temp/*')\n",
    "    for f in files:\n",
    "        os.remove(f)\n",
    "    while(cap.isOpened()):\n",
    "        frameId = cap.get(1) #current frame number\n",
    "        ret, frame = cap.read()\n",
    "        if (ret != True):\n",
    "            break\n",
    "        if (frameId % 3 == 0):\n",
    "            # storing the frames of this particular video in temp folder\n",
    "            filename ='temp/' + \"_frame%d.jpg\" % count;count+=1\n",
    "            cv2.imwrite(filename, frame)\n",
    "    cap.release()\n",
    "    \n",
    "    # reading all the frames from temp folder\n",
    "    images = glob(\"temp/*.jpg\")\n",
    "    \n",
    "    prediction_images = []\n",
    "    for i in range(len(images)):\n",
    "        img = image.load_img(images[i], target_size=(224,224,3))\n",
    "        img = image.img_to_array(img)\n",
    "        img = img/255.0\n",
    "        prediction_images.append(img)\n",
    "        \n",
    "    # converting all the frames for a test video into numpy array\n",
    "    prediction_images = np.array(prediction_images)\n",
    "    # extracting features using pre-trained model\n",
    "    prediction_images = base_model.predict(prediction_images)\n",
    "    # converting features in one dimensional array\n",
    "    prediction_images = prediction_images.reshape(prediction_images.shape[0], 7*7*1920)\n",
    "    # predicting tags for each array\n",
    "    prediction = model.predict_classes(prediction_images)\n",
    "    # appending the mode of predictions in predict list to assign the tag to the video\n",
    "    predict.append(y.columns.values[s.mode(prediction)[0][0]])\n",
    "    # appending the actual tag of the video\n",
    "    if (videoFile.split('/')[1].split('_')[0] == 'Harassment'):\n",
    "        actual.append(1)\n",
    "    else:\n",
    "        actual.append(0)\n",
    "    # actual.append(videoFile.split('/')[1].split('_')[1])"
   ]
  },
  {
   "cell_type": "code",
   "execution_count": null,
   "metadata": {
    "colab": {
     "base_uri": "https://localhost:8080/"
    },
    "id": "UA1GxL9o3n96",
    "outputId": "18c68ea4-8700-4480-cd6d-3726d1bfbeb9"
   },
   "outputs": [
    {
     "data": {
      "text/plain": [
       "90.0"
      ]
     },
     "execution_count": 23,
     "metadata": {
      "tags": []
     },
     "output_type": "execute_result"
    }
   ],
   "source": [
    "# checking the accuracy of the predicted tags\n",
    "from sklearn.metrics import accuracy_score\n",
    "accuracy_score(predict, actual)*100"
   ]
  },
  {
   "cell_type": "code",
   "execution_count": null,
   "metadata": {
    "id": "I-qI7CSEq1fB"
   },
   "outputs": [],
   "source": []
  }
 ],
 "metadata": {
  "accelerator": "GPU",
  "colab": {
   "collapsed_sections": [],
   "machine_shape": "hm",
   "name": "Harassment _Final_V2.ipynb",
   "provenance": []
  },
  "kernelspec": {
   "display_name": "Python 3",
   "language": "python",
   "name": "python3"
  },
  "language_info": {
   "codemirror_mode": {
    "name": "ipython",
    "version": 3
   },
   "file_extension": ".py",
   "mimetype": "text/x-python",
   "name": "python",
   "nbconvert_exporter": "python",
   "pygments_lexer": "ipython3",
   "version": "3.8.8"
  }
 },
 "nbformat": 4,
 "nbformat_minor": 1
}
